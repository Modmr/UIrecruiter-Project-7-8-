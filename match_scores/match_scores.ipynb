{
 "cells": [
  {
   "cell_type": "code",
   "execution_count": 1,
   "metadata": {},
   "outputs": [],
   "source": [
    "import numpy"
   ]
  },
  {
   "cell_type": "code",
   "execution_count": 54,
   "metadata": {},
   "outputs": [],
   "source": [
    "# Subject Info\n",
    "given_name = \"Diana\"\n",
    "last_name = \"Moon\"\n",
    "age = 18\n",
    "traits_positive = [\"Adaptable\",\"Clever\",\"Contemplative\",\"Forthright\",\"Intuitive\",\"Perfectionist\"]\n",
    "traits_neutral = [\"Ambitious\"]\n",
    "traits_negative = [\"Blunt\"]\n",
    "college_degree = \"Bachelor\"\n",
    "college_major = \"Computer Science\"\n",
    "position = \"Software Engineer\"\n",
    "experience = 2\n",
    "strengths = [\"Analysis\", \"Computers\"]\n",
    "weaknesses = [\"Communication\"]\n",
    "hours = 40"
   ]
  },
  {
   "cell_type": "code",
   "execution_count": 3,
   "metadata": {},
   "outputs": [],
   "source": [
    "# Parameters available for unfinished algorithm\n",
    "#\n",
    "# 1 Degrees = [\"None\", \"Associate\", \"Bachelor\", \"Master\"]\n",
    "# 1 Majors = [\"Computer Science\", \n",
    "#             \"Marketing\", \n",
    "#             \"Dance\"]\n",
    "# 2 Positions = [\"Software Engineer\", \n",
    "#                \"Marketing\", \n",
    "#                \"Recruiter\"]\n",
    "# 2 Experience = Any Value"
   ]
  },
  {
   "cell_type": "code",
   "execution_count": 4,
   "metadata": {},
   "outputs": [],
   "source": [
    "# Sigmoid Function\n",
    "def sigmoid(x):\n",
    "    return 1 / (1 + numpy.exp(-x))"
   ]
  },
  {
   "cell_type": "code",
   "execution_count": 5,
   "metadata": {},
   "outputs": [],
   "source": [
    "# Value Dictionary\n",
    "degree_values = {\"None\":0.0, \"Associate\":0.4 , \"Bachelor\": 0.75, \"Master\": 1.0}\n",
    "major_indeces = {\"Computer Science\": 1, \"Marketing\": 2, \"Dance\": 3}\n",
    "position_indeces = {\"Software Engineer\": 1, \"Marketing\": 2, \"Recruiter\": 3}"
   ]
  },
  {
   "cell_type": "code",
   "execution_count": 55,
   "metadata": {},
   "outputs": [
    {
     "name": "stdout",
     "output_type": "stream",
     "text": [
      "[[ 0.7550215   0.02093018  0.05394166]]\n"
     ]
    },
    {
     "data": {
      "text/plain": [
       "array([ 1.  ,  0.75,  0.  ,  0.  ,  0.5 ,  0.  ,  0.  ])"
      ]
     },
     "execution_count": 55,
     "metadata": {},
     "output_type": "execute_result"
    }
   ],
   "source": [
    "## Algorithm\n",
    "input1 = [1, 0, 0, 0]\n",
    "input1[major_indeces[college_major]] = degree_values[college_degree]\n",
    "input2 = [0, 0, 0]\n",
    "input2[position_indeces[position] - 1] = -((1 - experience) / experience)\n",
    "\n",
    "a1 = numpy.concatenate((input1, input2), 0)\n",
    "z1 = numpy.matrix([[-4, 10, 0, 0, 0, 0, 0], \n",
    "                   [-3, 0, 10, 0, 0, 0, 0], \n",
    "                   [-2, 2, 2, 0, 0, 0, 0], \n",
    "                   [-4, 0, 0, 0, 10, 0, 2], \n",
    "                   [-4, 0, 0, 0, 0, 10, 2], \n",
    "                   [-4, 0, 0, 0, 0, 0, 10]])\n",
    "\n",
    "a2 = sigmoid(a1 * z1.T)\n",
    "z2 = numpy.matrix([[0.1, 0, 0, 0.9, 0, 0], \n",
    "                   [0, 0.1, 0, 0, 0.9, 0], \n",
    "                   [0, 0, 0.1, 0, 0, 0.9]])\n",
    "\n",
    "a3 = a2 * z2.T\n",
    "print(a3)\n",
    "a1"
   ]
  }
 ],
 "metadata": {
  "kernelspec": {
   "display_name": "Python 3",
   "language": "python",
   "name": "python3"
  },
  "language_info": {
   "codemirror_mode": {
    "name": "ipython",
    "version": 3
   },
   "file_extension": ".py",
   "mimetype": "text/x-python",
   "name": "python",
   "nbconvert_exporter": "python",
   "pygments_lexer": "ipython3",
   "version": "3.6.5"
  }
 },
 "nbformat": 4,
 "nbformat_minor": 2
}
